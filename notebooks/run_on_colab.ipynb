{
  "nbformat": 4,
  "nbformat_minor": 0,
  "metadata": {
    "colab": {
      "provenance": [],
      "authorship_tag": "ABX9TyPEz9oVe2UI739UsSraWBuZ",
      "include_colab_link": true
    },
    "kernelspec": {
      "name": "python3",
      "display_name": "Python 3"
    },
    "language_info": {
      "name": "python"
    }
  },
  "cells": [
    {
      "cell_type": "markdown",
      "metadata": {
        "id": "view-in-github",
        "colab_type": "text"
      },
      "source": [
        "<a href=\"https://colab.research.google.com/github/fredericokremer/sars-cov-2/blob/main/notebooks/run_on_colab.ipynb\" target=\"_parent\"><img src=\"https://colab.research.google.com/assets/colab-badge.svg\" alt=\"Open In Colab\"/></a>"
      ]
    },
    {
      "cell_type": "code",
      "execution_count": null,
      "metadata": {
        "id": "4J4lmgXPqLBm"
      },
      "outputs": [],
      "source": [
        "!pip install condacolab"
      ]
    },
    {
      "cell_type": "code",
      "source": [
        "import condacolab\n",
        "condacolab.install()"
      ],
      "metadata": {
        "id": "3EyZrUljqqhm"
      },
      "execution_count": null,
      "outputs": []
    },
    {
      "cell_type": "code",
      "source": [
        "!git clone https://github.com/fredericokremer/sars-cov-2"
      ],
      "metadata": {
        "id": "llfZAJXJqNJ1"
      },
      "execution_count": null,
      "outputs": []
    },
    {
      "cell_type": "code",
      "source": [
        "%cd sars-cov-2"
      ],
      "metadata": {
        "id": "fleGXTf9qagi"
      },
      "execution_count": null,
      "outputs": []
    },
    {
      "cell_type": "code",
      "source": [
        "!mamba env update -n base -f environment.yml"
      ],
      "metadata": {
        "id": "mB51gz80qkAW"
      },
      "execution_count": null,
      "outputs": []
    },
    {
      "cell_type": "code",
      "source": [
        "!bash scripts/step_1_download.sh"
      ],
      "metadata": {
        "id": "7isqPGr3uD5M"
      },
      "execution_count": null,
      "outputs": []
    },
    {
      "cell_type": "code",
      "source": [
        "!bash scripts/step_2_quality_control.sh"
      ],
      "metadata": {
        "id": "8V3tZw9duKF1"
      },
      "execution_count": null,
      "outputs": []
    },
    {
      "cell_type": "code",
      "source": [
        "!bash scripts/step_3_remove_artifacts.sh"
      ],
      "metadata": {
        "id": "2ZY-lWjyuPUL"
      },
      "execution_count": null,
      "outputs": []
    },
    {
      "cell_type": "code",
      "source": [
        "!bash scripts/step_4_variant.sh"
      ],
      "metadata": {
        "id": "fvqJUjLLuUOS"
      },
      "execution_count": null,
      "outputs": []
    },
    {
      "cell_type": "code",
      "source": [
        "!bash scripts/step_5_classify.sh"
      ],
      "metadata": {
        "colab": {
          "base_uri": "https://localhost:8080/"
        },
        "id": "1HzswjTduYg9",
        "outputId": "1afd27f7-75c0-4b51-d3cf-74612f7fdcfb"
      },
      "execution_count": 14,
      "outputs": [
        {
          "output_type": "stream",
          "name": "stdout",
          "text": [
            "\u001b[33mRemoving temporary output file /tmp/tmps882cgsi/tax75911tax.aln.fasta.\u001b[0m\n",
            "\u001b[32m[Mon Oct 23 04:11:14 2023]\u001b[0m\n",
            "\u001b[32mFinished job 5.\u001b[0m\n",
            "\u001b[32m3 of 8 steps (38%) done\u001b[0m\n",
            "\u001b[32m\u001b[0m\n",
            "\u001b[32m[Mon Oct 23 04:11:14 2023]\u001b[0m\n",
            "\u001b[32mrule to_nexus:\n",
            "    input: /tmp/tmps882cgsi/tax75911tax.aln.fasta.treefile, /tmp/tmps882cgsi/tax75911tax.aln.fasta.parstree, /tmp/tmps882cgsi/tax75911tax.aln.fasta.splits.nex, /tmp/tmps882cgsi/tax75911tax.aln.fasta.contree, /tmp/tmps882cgsi/tax75911tax.aln.fasta.log, /tmp/tmps882cgsi/tax75911tax.aln.fasta.ckp.gz, /tmp/tmps882cgsi/tax75911tax.aln.fasta.iqtree\n",
            "    output: /tmp/tmps882cgsi/tax75911tax.nexus.tree\n",
            "    jobid: 4\n",
            "    wildcards: query=tax75911tax\u001b[0m\n",
            "\u001b[32m\u001b[0m\n",
            "\u001b[33mJob counts:\n",
            "\tcount\tjobs\n",
            "\t1\tto_nexus\n",
            "\t1\u001b[0m\n",
            "\u001b[33mRemoving temporary output file /tmp/tmps882cgsi/tax75911tax.aln.fasta.ckp.gz.\u001b[0m\n",
            "\u001b[33mRemoving temporary output file /tmp/tmps882cgsi/tax75911tax.aln.fasta.iqtree.\u001b[0m\n",
            "\u001b[33mRemoving temporary output file /tmp/tmps882cgsi/tax75911tax.aln.fasta.parstree.\u001b[0m\n",
            "\u001b[33mRemoving temporary output file /tmp/tmps882cgsi/tax75911tax.aln.fasta.contree.\u001b[0m\n",
            "\u001b[33mRemoving temporary output file /tmp/tmps882cgsi/tax75911tax.aln.fasta.log.\u001b[0m\n",
            "\u001b[33mRemoving temporary output file /tmp/tmps882cgsi/tax75911tax.aln.fasta.treefile.\u001b[0m\n",
            "\u001b[33mRemoving temporary output file /tmp/tmps882cgsi/tax75911tax.aln.fasta.splits.nex.\u001b[0m\n",
            "\u001b[32m[Mon Oct 23 04:11:15 2023]\u001b[0m\n",
            "\u001b[32mFinished job 4.\u001b[0m\n",
            "\u001b[32m4 of 8 steps (50%) done\u001b[0m\n",
            "\u001b[32m\u001b[0m\n",
            "\u001b[32m[Mon Oct 23 04:11:15 2023]\u001b[0m\n",
            "\u001b[32mrule assign_lineage:\n",
            "    input: /tmp/tmps882cgsi/tax75911tax.nexus.tree\n",
            "    output: /tmp/tmps882cgsi/tax75911tax.txt\n",
            "    jobid: 3\n",
            "    wildcards: query=tax75911tax\u001b[0m\n",
            "\u001b[32m\u001b[0m\n",
            "\u001b[33mRemoving temporary output file /tmp/tmps882cgsi/tax75911tax.nexus.tree.\u001b[0m\n",
            "\u001b[32m[Mon Oct 23 04:11:15 2023]\u001b[0m\n",
            "\u001b[32mFinished job 3.\u001b[0m\n",
            "\u001b[32m5 of 8 steps (62%) done\u001b[0m\n",
            "\u001b[32m\u001b[0m\n",
            "\u001b[32m[Mon Oct 23 04:11:15 2023]\u001b[0m\n",
            "\u001b[32mrule gather_reports:\n",
            "    input: /tmp/tmps882cgsi/tax75911tax.txt, /tmp/tmps882cgsi/query_key.csv\n",
            "    output: /tmp/tmps882cgsi/lineage_report.pass_qc.csv\n",
            "    jobid: 2\u001b[0m\n",
            "\u001b[32m\u001b[0m\n",
            "\u001b[33mJob counts:\n",
            "\tcount\tjobs\n",
            "\t1\tgather_reports\n",
            "\t1\u001b[0m\n",
            "\u001b[33mRemoving temporary output file /tmp/tmps882cgsi/tax75911tax.txt.\u001b[0m\n",
            "\u001b[32m[Mon Oct 23 04:11:16 2023]\u001b[0m\n",
            "\u001b[32mFinished job 2.\u001b[0m\n",
            "\u001b[32m6 of 8 steps (75%) done\u001b[0m\n",
            "\u001b[32m\u001b[0m\n",
            "\u001b[32m[Mon Oct 23 04:11:16 2023]\u001b[0m\n",
            "\u001b[32mrule add_failed_seqs:\n",
            "    input: /tmp/tmps882cgsi/lineage_report.pass_qc.csv, /tmp/tmps882cgsi/query.failed_qc.fasta\n",
            "    output: /content/sars-cov-2/data/classification/lineage_report.csv\n",
            "    jobid: 1\u001b[0m\n",
            "\u001b[32m\u001b[0m\n",
            "\u001b[33mJob counts:\n",
            "\tcount\tjobs\n",
            "\t1\tadd_failed_seqs\n",
            "\t1\u001b[0m\n",
            "\u001b[32m[Mon Oct 23 04:11:17 2023]\u001b[0m\n",
            "\u001b[32mFinished job 1.\u001b[0m\n",
            "\u001b[32m7 of 8 steps (88%) done\u001b[0m\n",
            "\u001b[32m\u001b[0m\n",
            "\u001b[32m[Mon Oct 23 04:11:17 2023]\u001b[0m\n",
            "\u001b[32mlocalrule all:\n",
            "    input: /content/sars-cov-2/data/classification/lineage_report.csv\n",
            "    jobid: 0\u001b[0m\n",
            "\u001b[32m\u001b[0m\n",
            "\u001b[32m[Mon Oct 23 04:11:17 2023]\u001b[0m\n",
            "\u001b[32mFinished job 0.\u001b[0m\n",
            "\u001b[32m8 of 8 steps (100%) done\u001b[0m\n",
            "\u001b[33mComplete log: /tmp/tmps882cgsi/.snakemake/log/2023-10-23T041032.848351.snakemake.log\u001b[0m\n"
          ]
        }
      ]
    }
  ]
}